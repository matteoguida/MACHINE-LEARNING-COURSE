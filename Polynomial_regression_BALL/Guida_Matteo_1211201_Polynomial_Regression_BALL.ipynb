{
 "cells": [
  {
   "cell_type": "markdown",
   "metadata": {},
   "source": [
    "# Polynomial Regression\n",
    "\n",
    "In this exercise you need to use polynomial regression to estimate the height reached by a ball thrown into air. The motion of the ball is controlled by the motion equation with uniform acceleration (in our case given by the gravity) that is a quadratic model. You need to estimate the initial height of the ball (h), the initial speed at which it was launched (v) and the gravity acceleration (g). The equation of the motion is : $y = h + vt + \\frac{1}{2} gt^2$ .\n",
    "In the height.csv file you can find the measured height values (subject to noise) while in time.csv file you can find the corresponding time instants."
   ]
  },
  {
   "cell_type": "code",
   "execution_count": 1,
   "metadata": {},
   "outputs": [],
   "source": [
    "#import the required packages\n",
    "import matplotlib.pyplot as plt\n",
    "import csv\n",
    "from scipy import stats\n",
    "import numpy as np\n",
    "import sklearn as sl\n",
    "from sklearn import linear_model"
   ]
  },
  {
   "cell_type": "code",
   "execution_count": 2,
   "metadata": {},
   "outputs": [
    {
     "name": "stdout",
     "output_type": "stream",
     "text": [
      "(201, 1)\n",
      "(201, 1)\n"
     ]
    }
   ],
   "source": [
    "# load the data from the time.csv (features) and height.csv (measured values) files\n",
    "with open('data/time.csv', 'r') as f:\n",
    "    reader = csv.reader(f, delimiter=',')\n",
    "    # get all the rows as a list\n",
    "    x = list(reader)\n",
    "    # transform x into numpy array\n",
    "    x = np.array(x).astype(float)\n",
    "    \n",
    "with open('data/height.csv', 'r') as f2:\n",
    "    reader2 = csv.reader(f2, delimiter=',')\n",
    "    # get all the rows as a list\n",
    "    y = list(reader2)\n",
    "    # transform data into numpy array\n",
    "    y = np.array(y).astype(float)\n",
    "    \n",
    "print(x.shape)\n",
    "print(y.shape)"
   ]
  },
  {
   "cell_type": "code",
   "execution_count": 3,
   "metadata": {},
   "outputs": [
    {
     "name": "stdout",
     "output_type": "stream",
     "text": [
      "slope (linregress):  0.22423930932968666   intercept (lnregress): 4.2153751087039835\n",
      "correlation coefficient: 0.08764757852933583\n"
     ]
    }
   ],
   "source": [
    "# try to perform a linear interpolation (it does not work properly, why ?)\n",
    "# you can use stats.linregress or linear_model.LinearRegression\n",
    "\n",
    "slope = 0 #need to compute!\n",
    "intercept = 0 #need to compute!\n",
    "r_value = 0 #need to compute!\n",
    "\n",
    "#ADD YOUR CODE HERE\n",
    "slope, intercept, r_value, p_value, std_err = stats.linregress(x.flatten(), y.flatten())\n",
    "\n",
    "print('slope (linregress): ', slope,'  intercept (lnregress):', intercept)\n",
    "print('correlation coefficient:', r_value)"
   ]
  },
  {
   "cell_type": "code",
   "execution_count": 4,
   "metadata": {},
   "outputs": [
    {
     "name": "stdout",
     "output_type": "stream",
     "text": [
      "initial position:  0.9649949791503962   initial speed: 10.024380403461107  gravity acceleration: -9.800141094131417\n",
      "correlation coefficient: 0.9977953125219581\n"
     ]
    }
   ],
   "source": [
    "# use polynomial regression (the feature vectors have three components:\n",
    "# they contain all 1s (for bias), the input data $x$ and their squared values $x^2$\n",
    "# for the regression you can use linear_model.LinearRegression\n",
    "\n",
    "dataX = np.zeros([201,3])\n",
    "# ADD YOUR CODE HERE\n",
    "\n",
    "dataX[:,0] = x.flatten()\n",
    "dataX[:,1] = (x**2).flatten()\n",
    "#print(dataX)\n",
    "\n",
    "LinReg = linear_model.LinearRegression()  \n",
    "LinReg.fit(dataX, y)\n",
    "h = float(LinReg.intercept_) #need to compute!\n",
    "v = LinReg.coef_[0,0] #need to compute!\n",
    "g = 2*LinReg.coef_[0,1] #need to compute!\n",
    "sc = LinReg.score(dataX, y) #need to compute!\n",
    "\n",
    "# ADD YOUR CODE HERE\n",
    "\n",
    "print('initial position: ', h,'  initial speed:', v, ' gravity acceleration:', g )\n",
    "# reg.score produces the square of the correlation coefficient\n",
    "print('correlation coefficient:', np.sqrt(sc))"
   ]
  },
  {
   "cell_type": "markdown",
   "metadata": {},
   "source": [
    "# Question\n",
    "\n",
    "Explain what do you conclude looking at the linear and polynomial fitting."
   ]
  },
  {
   "cell_type": "code",
   "execution_count": 5,
   "metadata": {},
   "outputs": [
    {
     "data": {
      "image/png": "[encoded data removed]",
      "text/plain": [
       "<Figure size 432x288 with 1 Axes>"
      ]
     },
     "metadata": {
      "needs_background": "light"
     },
     "output_type": "display_data"
    }
   ],
   "source": [
    "# plot the input data and the estimated models\n",
    "\n",
    "# ADD YOUR CODE HERE\n",
    "\n",
    "y_predict_linear = intercept + slope*x\n",
    "y_predict_polynomial = LinReg.predict(dataX)\n",
    "\n",
    "plt.figure()\n",
    "\n",
    "plt.plot(x, y, 'co', alpha=0.5, label=\"Data\")\n",
    "plt.plot(x, y_predict_linear, 'r', label=\"Linear regression\" )\n",
    "plt.plot(x, y_predict_polynomial, 'b', label=\"Quadratic model\")\n",
    "\n",
    "plt.xlabel('Time [s]')\n",
    "plt.ylabel('Height [m]')\n",
    "plt.legend()\n",
    "plt.show()"
   ]
  },
  {
   "cell_type": "markdown",
   "metadata": {},
   "source": [
    "**ANSWER**:\n",
    "\n",
    "Because of the generative model has a quadratic dependece on t, $y(t) = h + vt + \\frac{1}{2} gt^2$, we can't fit suitably the points with a linear model. With the quadratic model, as it's the true model of the data points, we do perfectly the job. "
   ]
  },
  {
   "cell_type": "code",
   "execution_count": null,
   "metadata": {},
   "outputs": [],
   "source": []
  }
 ],
 "metadata": {
  "kernelspec": {
   "display_name": "Python 3",
   "language": "python",
   "name": "python3"
  },
  "language_info": {
   "codemirror_mode": {
    "name": "ipython",
    "version": 3
   },
   "file_extension": ".py",
   "mimetype": "text/x-python",
   "name": "python",
   "nbconvert_exporter": "python",
   "pygments_lexer": "ipython3",
   "version": "3.7.3"
  },
  "latex_envs": {
   "LaTeX_envs_menu_present": true,
   "autoclose": false,
   "autocomplete": true,
   "bibliofile": "biblio.bib",
   "cite_by": "apalike",
   "current_citInitial": 1,
   "eqLabelWithNumbers": true,
   "eqNumInitial": 1,
   "hotkeys": {
    "equation": "Ctrl-E",
    "itemize": "Ctrl-I"
   },
   "labels_anchors": false,
   "latex_user_defs": false,
   "report_style_numbering": false,
   "user_envs_cfg": false
  }
 },
 "nbformat": 4,
 "nbformat_minor": 2
}
