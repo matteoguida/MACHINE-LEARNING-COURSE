{
 "cells": [
  {
   "cell_type": "markdown",
   "metadata": {},
   "source": [
    "# Neural Networks\n",
    "\n",
    "In this notebook we are going to explore the Neural Networks for image classification. We are going to use the same dataset of the SVM notebook: Fashion MNIST (https://pravarmahajan.github.io/fashion/), a dataset of small images of clothes and accessories.\n",
    "\n",
    "The dataset labels are the following:\n",
    "\n",
    "| Label | Description |\n",
    "| --- | --- |\n",
    "| 0 | T-shirt/top |\n",
    "| 1 | Trouser |\n",
    "| 2 | Pullover |\n",
    "| 3 | Dress |\n",
    "| 4 | Coat |\n",
    "| 5 | Sandal |\n",
    "| 6 | Shirt |\n",
    "| 7 | Sneaker |\n",
    "| 8 | Bag |\n",
    "| 9 | Ankle boot |"
   ]
  },
  {
   "cell_type": "code",
   "execution_count": 1,
   "metadata": {},
   "outputs": [],
   "source": [
    "#load the required packages\n",
    "\n",
    "%matplotlib inline  \n",
    "\n",
    "import numpy as np\n",
    "import scipy as sp\n",
    "import matplotlib.pyplot as plt\n",
    "import pandas as pd\n",
    "\n",
    "import sklearn\n",
    "from sklearn.neural_network import MLPClassifier\n",
    "from sklearn.model_selection import GridSearchCV\n",
    "from sklearn.svm import SVC"
   ]
  },
  {
   "cell_type": "code",
   "execution_count": 2,
   "metadata": {},
   "outputs": [],
   "source": [
    "# helper function to load Fashion MNIST dataset from disk\n",
    "def load_mnist(path, kind='train'):\n",
    "    import os\n",
    "    import gzip\n",
    "    import numpy as np\n",
    "    labels_path = os.path.join(path, '%s-labels-idx1-ubyte.gz' % kind)\n",
    "    images_path = os.path.join(path, '%s-images-idx3-ubyte.gz' % kind)\n",
    "    with gzip.open(labels_path, 'rb') as lbpath:\n",
    "        labels = np.frombuffer(lbpath.read(), dtype=np.uint8,offset=8)\n",
    "    with gzip.open(images_path, 'rb') as imgpath:\n",
    "        images = np.frombuffer(imgpath.read(), dtype=np.uint8,offset=16).reshape(len(labels), 784)\n",
    "    return images, labels"
   ]
  },
  {
   "cell_type": "markdown",
   "metadata": {},
   "source": [
    "# TODO \n",
    "Place your ID (\"numero di matricola\") that will be used as seed for random generator. You can try to change the seed to see the impact of the randomization."
   ]
  },
  {
   "cell_type": "code",
   "execution_count": 3,
   "metadata": {},
   "outputs": [],
   "source": [
    "ID = 1211201\n",
    "np.random.seed(ID)"
   ]
  },
  {
   "cell_type": "code",
   "execution_count": 4,
   "metadata": {},
   "outputs": [],
   "source": [
    "#load the MNIST dataset and let's normalize the features so that each value is in [0,1]\n",
    "X, y = load_mnist(\"data\")\n",
    "# rescale the data\n",
    "X = X / 255.0"
   ]
  },
  {
   "cell_type": "markdown",
   "metadata": {},
   "source": [
    "Now split into training and test. Make sure that each label is present at least 10 times\n",
    "in training frequencies."
   ]
  },
  {
   "cell_type": "code",
   "execution_count": 5,
   "metadata": {},
   "outputs": [
    {
     "name": "stdout",
     "output_type": "stream",
     "text": [
      "Labels in training dataset:  [0 1 2 3 4 5 6 7 8 9]\n",
      "Frequencies in training dataset:  [44 50 45 57 39 53 50 51 66 45]\n"
     ]
    }
   ],
   "source": [
    "#random permute the data and split into training and test taking the first 500\n",
    "#data samples as training and the rests as test\n",
    "permutation = np.random.permutation(X.shape[0])\n",
    "\n",
    "X = X[permutation]\n",
    "y = y[permutation]\n",
    "\n",
    "m_training = 500\n",
    "\n",
    "X_train, X_test = X[:m_training], X[m_training:]\n",
    "y_train, y_test = y[:m_training], y[m_training:]\n",
    "\n",
    "labels, freqs = np.unique(y_train, return_counts=True)\n",
    "print(\"Labels in training dataset: \", labels)\n",
    "print(\"Frequencies in training dataset: \", freqs)\n"
   ]
  },
  {
   "cell_type": "code",
   "execution_count": 6,
   "metadata": {},
   "outputs": [],
   "source": [
    "#function for plotting a image and printing the corresponding label\n",
    "def plot_input(X_matrix, labels, index):\n",
    "    print(\"INPUT:\")\n",
    "    plt.imshow(\n",
    "        X_matrix[index].reshape(28,28),\n",
    "        cmap          = plt.cm.gray_r,\n",
    "        interpolation = \"nearest\"\n",
    "    )\n",
    "    plt.show()\n",
    "    print(\"LABEL: %i\"%labels[index])\n",
    "    return"
   ]
  },
  {
   "cell_type": "code",
   "execution_count": 7,
   "metadata": {},
   "outputs": [
    {
     "name": "stdout",
     "output_type": "stream",
     "text": [
      "INPUT:\n"
     ]
    },
    {
     "data": {
      "image/png": "[encoded data removed]",
      "text/plain": [
       "<Figure size 432x288 with 1 Axes>"
      ]
     },
     "metadata": {
      "needs_background": "light"
     },
     "output_type": "display_data"
    },
    {
     "name": "stdout",
     "output_type": "stream",
     "text": [
      "LABEL: 1\n",
      "INPUT:\n"
     ]
    },
    {
     "data": {
      "image/png": "[encoded data removed]",
      "text/plain": [
       "<Figure size 432x288 with 1 Axes>"
      ]
     },
     "metadata": {
      "needs_background": "light"
     },
     "output_type": "display_data"
    },
    {
     "name": "stdout",
     "output_type": "stream",
     "text": [
      "LABEL: 6\n",
      "INPUT:\n"
     ]
    },
    {
     "data": {
      "image/png": "[encoded data removed]",
      "text/plain": [
       "<Figure size 432x288 with 1 Axes>"
      ]
     },
     "metadata": {
      "needs_background": "light"
     },
     "output_type": "display_data"
    },
    {
     "name": "stdout",
     "output_type": "stream",
     "text": [
      "LABEL: 5\n"
     ]
    }
   ],
   "source": [
    "#let's try the plotting function\n",
    "plot_input(X_train,y_train,10)\n",
    "plot_input(X_test,y_test,100)\n",
    "plot_input(X_test,y_test,10000)"
   ]
  },
  {
   "cell_type": "markdown",
   "metadata": {},
   "source": [
    "## TO DO 1\n",
    "\n",
    "Now use a Feed-forward Neural Network for prediction. Use the multi-layer perceptron classifier, with the following parameters: max_iter=300, alpha=1e-4, solver='sgd', tol=1e-4, learning_rate_init=.1, random_state=ID (this last parameter ensures the run is the same even if you run it more than once). The alpha parameter is the regularization term.\n",
    "\n",
    "Then, using the default activation function, pick four or five architectures to consider, with different numbers of hidden layers and different sizes. It is not necessary to create huge neural networks, you can limit to 3 layers and, for each layer, its maximum size can be of 100. Evaluate the architectures you chose using the GridSearchCV with cv=5.\n"
   ]
  },
  {
   "cell_type": "code",
   "execution_count": 8,
   "metadata": {},
   "outputs": [
    {
     "name": "stderr",
     "output_type": "stream",
     "text": [
      "/home/guida/anaconda3/lib/python3.7/site-packages/sklearn/model_selection/_search.py:841: DeprecationWarning: The default of the `iid` parameter will change from True to False in version 0.22 and will be removed in 0.24. This will change numeric results when test-set sizes are unequal.\n",
      "  DeprecationWarning)\n"
     ]
    },
    {
     "name": "stdout",
     "output_type": "stream",
     "text": [
      "RESULTS FOR NN\n",
      "\n",
      "Best parameters set found: {'hidden_layer_sizes': (50,)}\n",
      "Score with best parameters: 0.662\n",
      "\n",
      "All scores on the grid:\n"
     ]
    }
   ],
   "source": [
    "parameters = {'hidden_layer_sizes': [(10,), (50,), (10,10,), (50,50,)]}\n",
    "\n",
    "mlp = MLPClassifier(max_iter=300, alpha=1e-4,\n",
    "                    solver='sgd', tol=1e-4, random_state=ID,\n",
    "                    learning_rate_init=.1)\n",
    "\n",
    "#ADD YOUR CODE\n",
    "clf = GridSearchCV(estimator=mlp, param_grid=parameters, cv=5, return_train_score=True)\n",
    "clf.fit(X_train, y_train)\n",
    "print ('RESULTS FOR NN\\n')\n",
    "\n",
    "print(\"Best parameters set found:\", clf.best_params_)\n",
    "#ADD YOUR CODE\n",
    "\n",
    "print(\"Score with best parameters:\", clf.best_score_)\n",
    "#ADD YOUR CODE\n",
    "\n",
    "print(\"\\nAll scores on the grid:\")\n",
    "#ADD YOUR CODE\n",
    "results = pd.DataFrame(clf.cv_results_)"
   ]
  },
  {
   "cell_type": "code",
   "execution_count": 9,
   "metadata": {},
   "outputs": [
    {
     "data": {
      "text/html": [
       "<div>\n",
       "<style scoped>\n",
       "    .dataframe tbody tr th:only-of-type {\n",
       "        vertical-align: middle;\n",
       "    }\n",
       "\n",
       "    .dataframe tbody tr th {\n",
       "        vertical-align: top;\n",
       "    }\n",
       "\n",
       "    .dataframe thead th {\n",
       "        text-align: right;\n",
       "    }\n",
       "</style>\n",
       "<table border=\"1\" class=\"dataframe\">\n",
       "  <thead>\n",
       "    <tr style=\"text-align: right;\">\n",
       "      <th></th>\n",
       "      <th>param_hidden_layer_sizes</th>\n",
       "      <th>mean_test_score</th>\n",
       "    </tr>\n",
       "  </thead>\n",
       "  <tbody>\n",
       "    <tr>\n",
       "      <th>0</th>\n",
       "      <td>(10,)</td>\n",
       "      <td>0.556</td>\n",
       "    </tr>\n",
       "    <tr>\n",
       "      <th>1</th>\n",
       "      <td>(50,)</td>\n",
       "      <td>0.662</td>\n",
       "    </tr>\n",
       "    <tr>\n",
       "      <th>2</th>\n",
       "      <td>(10, 10)</td>\n",
       "      <td>0.378</td>\n",
       "    </tr>\n",
       "    <tr>\n",
       "      <th>3</th>\n",
       "      <td>(50, 50)</td>\n",
       "      <td>0.586</td>\n",
       "    </tr>\n",
       "  </tbody>\n",
       "</table>\n",
       "</div>"
      ],
      "text/plain": [
       "  param_hidden_layer_sizes  mean_test_score\n",
       "0                    (10,)            0.556\n",
       "1                    (50,)            0.662\n",
       "2                 (10, 10)            0.378\n",
       "3                 (50, 50)            0.586"
      ]
     },
     "execution_count": 9,
     "metadata": {},
     "output_type": "execute_result"
    }
   ],
   "source": [
    "results[[\"param_hidden_layer_sizes\",\"mean_test_score\"]]"
   ]
  },
  {
   "cell_type": "markdown",
   "metadata": {},
   "source": [
    "### QUESTION 1\n",
    "\n",
    "What do you observe for different architectures and their scores? How the nummber of layers and their sizes affect the performances?"
   ]
  },
  {
   "cell_type": "markdown",
   "metadata": {},
   "source": [
    "- In this case we can see that an increase in performance is not always guaranteed by increasing the number of layers."
   ]
  },
  {
   "cell_type": "markdown",
   "metadata": {},
   "source": [
    "### TO DO 2\n",
    "\n",
    "Now get training and test error for a NN with best parameters from above. Use verbose=True\n",
    "in input so to see how loss changes in iterations"
   ]
  },
  {
   "cell_type": "code",
   "execution_count": 10,
   "metadata": {},
   "outputs": [
    {
     "name": "stdout",
     "output_type": "stream",
     "text": [
      "Iteration 1, loss = 2.20764298\n",
      "Iteration 2, loss = 1.61008434\n",
      "Iteration 3, loss = 1.05507283\n",
      "Iteration 4, loss = 1.03521125\n",
      "Iteration 5, loss = 0.96211263\n",
      "Iteration 6, loss = 0.79958095\n",
      "Iteration 7, loss = 0.62700522\n",
      "Iteration 8, loss = 0.57016473\n",
      "Iteration 9, loss = 0.48843773\n",
      "Iteration 10, loss = 0.44054397\n",
      "Iteration 11, loss = 0.41645295\n",
      "Iteration 12, loss = 0.48896357\n",
      "Iteration 13, loss = 0.35863190\n",
      "Iteration 14, loss = 0.30592336\n",
      "Iteration 15, loss = 0.30057636\n",
      "Iteration 16, loss = 0.29025680\n",
      "Iteration 17, loss = 0.31775313\n",
      "Iteration 18, loss = 0.22236340\n",
      "Iteration 19, loss = 0.22155019\n",
      "Iteration 20, loss = 0.27381405\n",
      "Iteration 21, loss = 0.16369681\n",
      "Iteration 22, loss = 0.15393684\n",
      "Iteration 23, loss = 0.13306830\n",
      "Iteration 24, loss = 0.15178738\n",
      "Iteration 25, loss = 0.15162890\n",
      "Iteration 26, loss = 0.12080657\n",
      "Iteration 27, loss = 0.10109650\n",
      "Iteration 28, loss = 0.26585800\n",
      "Iteration 29, loss = 0.09158831\n",
      "Iteration 30, loss = 0.08764913\n",
      "Iteration 31, loss = 0.07626175\n",
      "Iteration 32, loss = 0.06924406\n",
      "Iteration 33, loss = 0.06640092\n",
      "Iteration 34, loss = 0.06961048\n",
      "Iteration 35, loss = 0.08801330\n",
      "Iteration 36, loss = 0.06583880\n",
      "Iteration 37, loss = 0.06635255\n",
      "Iteration 38, loss = 0.04502966\n",
      "Iteration 39, loss = 0.04254449\n",
      "Iteration 40, loss = 0.04857731\n",
      "Iteration 41, loss = 0.03712270\n",
      "Iteration 42, loss = 0.03879394\n",
      "Iteration 43, loss = 0.03248281\n",
      "Iteration 44, loss = 0.03094662\n",
      "Iteration 45, loss = 0.03051678\n",
      "Iteration 46, loss = 0.02702623\n",
      "Iteration 47, loss = 0.02682012\n",
      "Iteration 48, loss = 0.02470854\n",
      "Iteration 49, loss = 0.02434222\n",
      "Iteration 50, loss = 0.02301594\n",
      "Iteration 51, loss = 0.02306083\n",
      "Iteration 52, loss = 0.02052007\n",
      "Iteration 53, loss = 0.01927379\n",
      "Iteration 54, loss = 0.01925006\n",
      "Iteration 55, loss = 0.02205520\n",
      "Iteration 56, loss = 0.02703909\n",
      "Iteration 57, loss = 0.01869093\n",
      "Iteration 58, loss = 0.01595839\n",
      "Iteration 59, loss = 0.01581120\n",
      "Iteration 60, loss = 0.01524522\n",
      "Iteration 61, loss = 0.01455930\n",
      "Iteration 62, loss = 0.01440267\n",
      "Iteration 63, loss = 0.01398107\n",
      "Iteration 64, loss = 0.01313776\n",
      "Iteration 65, loss = 0.01283357\n",
      "Iteration 66, loss = 0.01272118\n",
      "Iteration 67, loss = 0.01208776\n",
      "Iteration 68, loss = 0.01168850\n",
      "Iteration 69, loss = 0.01146813\n",
      "Iteration 70, loss = 0.01122252\n",
      "Iteration 71, loss = 0.01126529\n",
      "Iteration 72, loss = 0.01076002\n",
      "Iteration 73, loss = 0.01022512\n",
      "Iteration 74, loss = 0.01015705\n",
      "Iteration 75, loss = 0.00993621\n",
      "Iteration 76, loss = 0.00968441\n",
      "Iteration 77, loss = 0.00957214\n",
      "Iteration 78, loss = 0.00910637\n",
      "Iteration 79, loss = 0.00892559\n",
      "Iteration 80, loss = 0.00875475\n",
      "Iteration 81, loss = 0.00878153\n",
      "Iteration 82, loss = 0.00849335\n",
      "Iteration 83, loss = 0.00820041\n",
      "Iteration 84, loss = 0.00815629\n",
      "Iteration 85, loss = 0.00800111\n",
      "Iteration 86, loss = 0.00781380\n",
      "Iteration 87, loss = 0.00772255\n",
      "Iteration 88, loss = 0.00757277\n",
      "Iteration 89, loss = 0.00735106\n",
      "Iteration 90, loss = 0.00726166\n",
      "Iteration 91, loss = 0.00712599\n",
      "Iteration 92, loss = 0.00700991\n",
      "Iteration 93, loss = 0.00694216\n",
      "Iteration 94, loss = 0.00679222\n",
      "Iteration 95, loss = 0.00664963\n",
      "Iteration 96, loss = 0.00658355\n",
      "Iteration 97, loss = 0.00654974\n",
      "Iteration 98, loss = 0.00658103\n",
      "Iteration 99, loss = 0.00626096\n",
      "Iteration 100, loss = 0.00620165\n",
      "Iteration 101, loss = 0.00611267\n",
      "Iteration 102, loss = 0.00599648\n",
      "Iteration 103, loss = 0.00590257\n",
      "Iteration 104, loss = 0.00585296\n",
      "Iteration 105, loss = 0.00574137\n",
      "Iteration 106, loss = 0.00572210\n",
      "Iteration 107, loss = 0.00560984\n",
      "Iteration 108, loss = 0.00549660\n",
      "Iteration 109, loss = 0.00542920\n",
      "Iteration 110, loss = 0.00534217\n",
      "Iteration 111, loss = 0.00528214\n",
      "Iteration 112, loss = 0.00515918\n",
      "Iteration 113, loss = 0.00514713\n",
      "Iteration 114, loss = 0.00509214\n",
      "Iteration 115, loss = 0.00501506\n",
      "Iteration 116, loss = 0.00500911\n",
      "Iteration 117, loss = 0.00491190\n",
      "Iteration 118, loss = 0.00480850\n",
      "Iteration 119, loss = 0.00473187\n",
      "Iteration 120, loss = 0.00472847\n",
      "Iteration 121, loss = 0.00463823\n",
      "Iteration 122, loss = 0.00462686\n",
      "Iteration 123, loss = 0.00456087\n",
      "Iteration 124, loss = 0.00450448\n",
      "Iteration 125, loss = 0.00444590\n",
      "Iteration 126, loss = 0.00435505\n",
      "Iteration 127, loss = 0.00430470\n",
      "Iteration 128, loss = 0.00427555\n",
      "Iteration 129, loss = 0.00422266\n",
      "Training loss did not improve more than tol=0.000100 for 10 consecutive epochs. Stopping.\n",
      "\n",
      "RESULTS FOR BEST NN\n",
      "\n",
      "Best NN training error: 0.000000\n",
      "Best NN test error: 0.219798\n"
     ]
    }
   ],
   "source": [
    "#get training and test error for the best NN model from CV\n",
    "\n",
    "#ADD YOUR CODE\n",
    "best_model_S = MLPClassifier(hidden_layer_sizes=(50),verbose=True,max_iter=300, alpha=1e-4, solver='sgd', tol=1e-4, random_state=ID,\n",
    "                    learning_rate_init=.1)\n",
    "\n",
    "best_model_S.fit(X_train, y_train)\n",
    "\n",
    "training_error = 1. - best_model_S.score(X_train,y_train) #ADD YOUR CODE\n",
    "test_error = 1. - best_model_S.score(X_test,y_test) #ADD YOUR CODE\n",
    "\n",
    "print ('\\nRESULTS FOR BEST NN\\n')\n",
    "\n",
    "print (\"Best NN training error: %f\" % training_error)\n",
    "print (\"Best NN test error: %f\" % test_error)"
   ]
  },
  {
   "cell_type": "markdown",
   "metadata": {},
   "source": [
    "## More data \n",
    "Now let's do the same but using 10000 (or less if it takes too long on your machine) data points for training. Use the same NN architectures as before, but you can try more if you want!"
   ]
  },
  {
   "cell_type": "code",
   "execution_count": 11,
   "metadata": {},
   "outputs": [
    {
     "name": "stdout",
     "output_type": "stream",
     "text": [
      "Labels and frequencies in training dataset: \n"
     ]
    },
    {
     "data": {
      "text/plain": [
       "(array([0, 1, 2, 3, 4, 5, 6, 7, 8, 9], dtype=uint8),\n",
       " array([ 976,  989, 1020,  994, 1037,  990, 1000, 1025, 1036,  933]))"
      ]
     },
     "execution_count": 11,
     "metadata": {},
     "output_type": "execute_result"
    }
   ],
   "source": [
    "X = X[permutation]\n",
    "y = y[permutation]\n",
    "\n",
    "m_training = 10000\n",
    "\n",
    "X_train, X_test = X[:m_training], X[m_training:]\n",
    "y_train, y_test = y[:m_training], y[m_training:]\n",
    "\n",
    "print(\"Labels and frequencies in training dataset: \")\n",
    "np.unique(y_train, return_counts=True)"
   ]
  },
  {
   "cell_type": "markdown",
   "metadata": {},
   "source": [
    "## TO DO 3\n",
    "\n",
    "Now train the NNs with the added data points. Feel free to try more different architectures than before if you want, or less if it takes too much time. We suggest that you use 'verbose=True' so have an idea of how long it takes to run 1 iteration (eventually reduce also the number of iterations to 50)."
   ]
  },
  {
   "cell_type": "code",
   "execution_count": null,
   "metadata": {},
   "outputs": [],
   "source": [
    "#for NN we try the same architectures as before\n",
    "parameters = {'hidden_layer_sizes': [(10,),(50,),(100,),(200,),(50,50,),(100,100),(100,100,100)]}\n",
    "\n",
    "#ADD YOUR CODE\n",
    "best_mlp_large = MLPClassifier(max_iter=200, alpha=1e-4,\n",
    "                    solver='sgd', tol=1e-4, random_state=ID,\n",
    "                    learning_rate_init=.1)\n",
    "\n",
    "#ADD YOUR CODE\n",
    "mlp_large_CV = GridSearchCV(best_mlp_large, parameters, cv=5,return_train_score=True) # 5-fold-cross-validation\n",
    "mlp_large_CV.fit(X_train, y_train)\n",
    "print ('\\nRESULTS FOR NN\\n')\n",
    "\n",
    "print(\"Best parameters set found:\")\n",
    "print(mlp_large_CV.best_params_)\n",
    "\n",
    "print(\"Score with best parameters:\")\n",
    "print(mlp_large_CV.best_score_)"
   ]
  },
  {
   "cell_type": "code",
   "execution_count": null,
   "metadata": {},
   "outputs": [
    {
     "name": "stdout",
     "output_type": "stream",
     "text": [
      "\n",
      "All scores on the grid:\n"
     ]
    },
    {
     "data": {
      "text/html": [
       "<div>\n",
       "<style scoped>\n",
       "    .dataframe tbody tr th:only-of-type {\n",
       "        vertical-align: middle;\n",
       "    }\n",
       "\n",
       "    .dataframe tbody tr th {\n",
       "        vertical-align: top;\n",
       "    }\n",
       "\n",
       "    .dataframe thead th {\n",
       "        text-align: right;\n",
       "    }\n",
       "</style>\n",
       "<table border=\"1\" class=\"dataframe\">\n",
       "  <thead>\n",
       "    <tr style=\"text-align: right;\">\n",
       "      <th></th>\n",
       "      <th>param_hidden_layer_sizes</th>\n",
       "      <th>mean_test_score</th>\n",
       "    </tr>\n",
       "  </thead>\n",
       "  <tbody>\n",
       "    <tr>\n",
       "      <th>0</th>\n",
       "      <td>(10,)</td>\n",
       "      <td>0.7053</td>\n",
       "    </tr>\n",
       "    <tr>\n",
       "      <th>1</th>\n",
       "      <td>(50,)</td>\n",
       "      <td>0.8202</td>\n",
       "    </tr>\n",
       "    <tr>\n",
       "      <th>2</th>\n",
       "      <td>(100,)</td>\n",
       "      <td>0.7965</td>\n",
       "    </tr>\n",
       "    <tr>\n",
       "      <th>3</th>\n",
       "      <td>(200,)</td>\n",
       "      <td>0.8500</td>\n",
       "    </tr>\n",
       "    <tr>\n",
       "      <th>4</th>\n",
       "      <td>(50, 50)</td>\n",
       "      <td>0.7856</td>\n",
       "    </tr>\n",
       "    <tr>\n",
       "      <th>5</th>\n",
       "      <td>(100, 100)</td>\n",
       "      <td>0.6330</td>\n",
       "    </tr>\n",
       "    <tr>\n",
       "      <th>6</th>\n",
       "      <td>(100, 100, 100)</td>\n",
       "      <td>0.6706</td>\n",
       "    </tr>\n",
       "  </tbody>\n",
       "</table>\n",
       "</div>"
      ],
      "text/plain": [
       "  param_hidden_layer_sizes  mean_test_score\n",
       "0                    (10,)           0.7053\n",
       "1                    (50,)           0.8202\n",
       "2                   (100,)           0.7965\n",
       "3                   (200,)           0.8500\n",
       "4                 (50, 50)           0.7856\n",
       "5               (100, 100)           0.6330\n",
       "6          (100, 100, 100)           0.6706"
      ]
     },
     "execution_count": 13,
     "metadata": {},
     "output_type": "execute_result"
    }
   ],
   "source": [
    "print(\"\\nAll scores on the grid:\")\n",
    "results_large = pd.DataFrame(mlp_large_CV.cv_results_)\n",
    "results_large[[\"param_hidden_layer_sizes\", \"mean_test_score\"]]"
   ]
  },
  {
   "cell_type": "markdown",
   "metadata": {},
   "source": [
    "## QUESTION 2\n",
    "Describe your architecture choices and the results you observe with respect to the layers and sizes used."
   ]
  },
  {
   "cell_type": "markdown",
   "metadata": {},
   "source": [
    "- Architecture choice: I decided to increase the neurons for the single layer looking at the results of the previous cells. Furthermore, the neurons for multilayer have been increased to see if they continue to have worse performance.\n",
    "- Results: we know that the number of layer is problem-dipendent. <br> A better performance for the single layer seems to be confirmed. The best performance of (200,) is probably determined by the fact that increasing the number of neurons (parameters) increases the approximation power."
   ]
  },
  {
   "cell_type": "markdown",
   "metadata": {},
   "source": [
    "## TO DO 4\n",
    "\n",
    "Get the train and test error for the best NN you obtained with 10000 points. This time you can run for 100 iterations. \n"
   ]
  },
  {
   "cell_type": "code",
   "execution_count": null,
   "metadata": {},
   "outputs": [
    {
     "name": "stdout",
     "output_type": "stream",
     "text": [
      "RESULTS FOR BEST NN\n",
      "\n",
      "Best NN training error: 0.000000\n",
      "Best NN test error: 0.133220\n",
      "CPU times: user 1min 11s, sys: 2.83 s, total: 1min 14s\n",
      "Wall time: 37.1 s\n"
     ]
    }
   ],
   "source": [
    "%%time\n",
    "#get training and test error for the best NN model from CV\n",
    "\n",
    "#ADD YOUR CODE\n",
    "best_model_XL = MLPClassifier(hidden_layer_sizes=(200,), max_iter=200, alpha=1e-4, solver='sgd', tol=1e-4, random_state=ID, learning_rate_init=.1)\n",
    "best_model_XL.fit(X_train, y_train)\n",
    "\n",
    "training_error = 1. - best_model_XL.score(X_train,y_train) #ADD YOUR CODE\n",
    "test_error = 1. - best_model_XL.score(X_test,y_test) #ADD YOUR CODE\n",
    "\n",
    "print ('RESULTS FOR BEST NN\\n')\n",
    "\n",
    "print (\"Best NN training error: %f\" % training_error)\n",
    "print (\"Best NN test error: %f\" % test_error)"
   ]
  },
  {
   "cell_type": "markdown",
   "metadata": {},
   "source": [
    "## QUESTION 3\n",
    "\n",
    "Compare the train and test error you got with a large number of samples with the best one you obtained with only 500 data points. Are the architectures the same or do they differ? What about the errors you get?"
   ]
  },
  {
   "cell_type": "markdown",
   "metadata": {},
   "source": [
    "- Bigger training set probably contributes to the reduction of the error on the test set.\n",
    "- The fact that both models give a training error near zero allows us to say that maybe we are in a case of overfitting. "
   ]
  },
  {
   "cell_type": "markdown",
   "metadata": {},
   "source": [
    "### TO DO 5\n",
    "\n",
    "Plot a digit that was missclassified by NN with m=500 training data points and it is now instead correctly classified by NN with m=10000 training data points."
   ]
  },
  {
   "cell_type": "code",
   "execution_count": null,
   "metadata": {},
   "outputs": [
    {
     "name": "stdout",
     "output_type": "stream",
     "text": [
      "Clothing missclassified by 500 and correctly by 10000:  6406 / 50000\n",
      "NN with m=500 prediction = 6\n",
      " NN with m=10000 prediction = 2\n",
      "INPUT:\n"
     ]
    },
    {
     "data": {
      "image/png": "[encoded data removed]",
      "text/plain": [
       "<Figure size 432x288 with 1 Axes>"
      ]
     },
     "metadata": {
      "needs_background": "light"
     },
     "output_type": "display_data"
    },
    {
     "name": "stdout",
     "output_type": "stream",
     "text": [
      "LABEL: 2\n"
     ]
    }
   ],
   "source": [
    "NN_prediction = best_model_S.predict(X_test) #ADD YOUR CODE\n",
    "large_NN_prediction = best_model_XL.predict(X_test) #ADD YOUR CODE\n",
    "\n",
    "missclassified_index = []\n",
    "for i in range(len(y_test)):\n",
    "    if (large_NN_prediction[i] == y_test[i]) and (NN_prediction[i] != y_test[i]):\n",
    "        missclassified_index.append(i)\n",
    "\n",
    "j = missclassified_index[np.random.randint(0, len(missclassified_index))]\n",
    "print(\"Clothing missclassified by 500 and correctly by 10000: \",len(missclassified_index),\"/\",len(y_test))\n",
    "print(\"NN with m=500 prediction =\", NN_prediction[j])\n",
    "print(\" NN with m=10000 prediction =\", large_NN_prediction[j])\n",
    "plot_input(X_test,y_test,j)\n",
    "#ADD YOUR CODE\n",
    "        "
   ]
  },
  {
   "cell_type": "markdown",
   "metadata": {},
   "source": [
    "Let's plot the weigths of the multi-layer perceptron classifier, for the best NN we get with 500 data points and with 50000 data points. Notice that the code assumes that the NNs are called \"mlp\" and \"best_mlp_large\" , you could need to replace with your variable names.\n",
    "\n"
   ]
  },
  {
   "cell_type": "code",
   "execution_count": null,
   "metadata": {},
   "outputs": [
    {
     "name": "stdout",
     "output_type": "stream",
     "text": [
      "Weights with 500 data points:\n"
     ]
    },
    {
     "data": {
      "image/png": "[encoded data removed]",
      "text/plain": [
       "<Figure size 1152x720 with 16 Axes>"
      ]
     },
     "metadata": {},
     "output_type": "display_data"
    },
    {
     "name": "stdout",
     "output_type": "stream",
     "text": [
      "Weights with 10000 data points:\n"
     ]
    },
    {
     "data": {
      "image/png": "[encoded data removed]",
      "text/plain": [
       "<Figure size 1152x720 with 16 Axes>"
      ]
     },
     "metadata": {},
     "output_type": "display_data"
    }
   ],
   "source": [
    "print(\"Weights with 500 data points:\")\n",
    "\n",
    "fig, axes = plt.subplots(4, 4)\n",
    "fig.set_size_inches(16.0, 10.0)\n",
    "vmin, vmax = best_model_S.coefs_[0].min(), best_model_S.coefs_[0].max()\n",
    "for coef, ax in zip(best_model_S.coefs_[0].T, axes.ravel()):\n",
    "    ax.matshow(coef.reshape(28, 28), cmap=plt.cm.gray, vmin=.5 * vmin, vmax=.5 * vmax)\n",
    "    ax.set_xticks(())\n",
    "    ax.set_yticks(())\n",
    "\n",
    "plt.show()\n",
    "\n",
    "print(\"Weights with 10000 data points:\")\n",
    "\n",
    "fig, axes = plt.subplots(4, 4)\n",
    "fig.set_size_inches(16.0, 10.0)\n",
    "vmin, vmax = best_model_XL.coefs_[0].min(), best_model_XL.coefs_[0].max()\n",
    "for coef, ax in zip(best_model_XL.coefs_[0].T, axes.ravel()):\n",
    "    ax.matshow(coef.reshape(28, 28), cmap=plt.cm.gray, vmin=.5 * vmin, vmax=.5 * vmax)\n",
    "    ax.set_xticks(())\n",
    "    ax.set_yticks(())\n",
    "plt.show()"
   ]
  },
  {
   "cell_type": "markdown",
   "metadata": {},
   "source": [
    "## QUESTION 4\n",
    "\n",
    "Describe what do you observe by looking at the weights\n",
    " \n",
    "- In the case of the larger dataset we see that the shapes of the clothes are better defined and we have less noise"
   ]
  },
  {
   "cell_type": "markdown",
   "metadata": {},
   "source": [
    "### TO DO 7\n",
    "\n",
    "Report the best SVM model and its parameters, you found in the last notebook. Fit it on a few data points and compute its training and test scores."
   ]
  },
  {
   "cell_type": "code",
   "execution_count": null,
   "metadata": {},
   "outputs": [
    {
     "name": "stdout",
     "output_type": "stream",
     "text": [
      "RESULTS FOR SVM\n"
     ]
    }
   ],
   "source": [
    "%%time\n",
    "m_training = 10000\n",
    "\n",
    "X_train, X_test = X[:m_training], X[m_training:2*m_training]\n",
    "y_train, y_test = y[:m_training], y[m_training:2*m_training]\n",
    "\n",
    "# best parameters found in the SVM notebook\n",
    "# Create the SVM and perform the fit\n",
    "\n",
    "#ADD YOUR CODE\n",
    "best_SVM = SVC(C=10, gamma=0.001, kernel='rbf')\n",
    "best_SVM.fit(X_train, y_train)\n",
    "print ('RESULTS FOR SVM')\n",
    "\n",
    "SVM_training_error = 1. - best_SVM.score(X_train,y_train) #ADD YOUR CODE\n",
    "\n",
    "print(\"Training score SVM:\")\n",
    "print(SVM_training_error)\n",
    "\n",
    "SVM_test_error = 1. - best_SVM.score(X_test,y_test) #ADD YOUR CODE\n",
    "print(\"Test score SVM:\")\n",
    "print(SVM_test_error)"
   ]
  },
  {
   "cell_type": "markdown",
   "metadata": {
    "collapsed": true
   },
   "source": [
    "## QUESTION 5\n",
    "Compare the results of SVM and of NN. Which one would you preferer? Which are its tradeoffs?"
   ]
  },
  {
   "cell_type": "markdown",
   "metadata": {
    "collapsed": true
   },
   "source": [
    "- As you can see in the corresponding cells the process is faster in the case of the NN, also the result on the test error seems better. \n",
    "- I don't seem to have clear reasons in order to prefer a solution in general. In the case of this problem, if everything has been executed correctly it seems to me that the NN is more performing."
   ]
  },
  {
   "cell_type": "code",
   "execution_count": null,
   "metadata": {},
   "outputs": [],
   "source": []
  }
 ],
 "metadata": {
  "kernelspec": {
   "display_name": "Python 3",
   "language": "python",
   "name": "python3"
  },
  "language_info": {
   "codemirror_mode": {
    "name": "ipython",
    "version": 3
   },
   "file_extension": ".py",
   "mimetype": "text/x-python",
   "name": "python",
   "nbconvert_exporter": "python",
   "pygments_lexer": "ipython3",
   "version": "3.7.3"
  },
  "latex_envs": {
   "LaTeX_envs_menu_present": true,
   "autoclose": false,
   "autocomplete": true,
   "bibliofile": "biblio.bib",
   "cite_by": "apalike",
   "current_citInitial": 1,
   "eqLabelWithNumbers": true,
   "eqNumInitial": 1,
   "hotkeys": {
    "equation": "Ctrl-E",
    "itemize": "Ctrl-I"
   },
   "labels_anchors": false,
   "latex_user_defs": false,
   "report_style_numbering": false,
   "user_envs_cfg": false
  }
 },
 "nbformat": 4,
 "nbformat_minor": 2
}
